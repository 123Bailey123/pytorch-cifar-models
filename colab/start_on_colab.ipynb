{
  "cells": [
    {
      "cell_type": "code",
      "execution_count": null,
      "metadata": {
        "id": "PwHOLr9y7S3Q"
      },
      "outputs": [],
      "source": [
        "from IPython.display import HTML, display\n",
        "\n",
        "def set_css():\n",
        "  display(HTML('''\n",
        "  <style>\n",
        "    pre {\n",
        "        white-space: pre-wrap;\n",
        "    }\n",
        "  </style>\n",
        "  '''))\n",
        "get_ipython().events.register('pre_run_cell', set_css)"
      ]
    },
    {
      "cell_type": "code",
      "execution_count": null,
      "metadata": {
        "id": "zXkQlZUJ8Lnm"
      },
      "outputs": [],
      "source": [
        "!git clone --recursive https://github.com/123Bailey123/image-classification-codebase\n",
        "%cd image-classification-codebase\n",
        "\n",
        "%pip install -qr requirements.txt\n",
        "\n",
        "import torch\n",
        "from IPython.display import clear_output\n",
        "\n",
        "clear_output()\n",
        "print('Setup complete. Using torch %s %s' % (torch.__version__, torch.cuda.get_device_properties(0) if torch.cuda.is_available() else 'CPU'))"
      ]
    },
    {
      "cell_type": "markdown",
      "metadata": {
        "id": "Ijy9oBmN6ovz"
      },
      "source": [
        "The following command list all the available models."
      ]
    },
    {
      "cell_type": "code",
      "execution_count": null,
      "metadata": {
        "colab": {
          "base_uri": "https://localhost:8080/",
          "height": 69
        },
        "id": "y-AG3Ne76dOv",
        "outputId": "5607e9cb-31aa-48d6-a465-65662eebb653"
      },
      "outputs": [
        {
          "data": {
            "text/html": [
              "\n",
              "  <style>\n",
              "    pre {\n",
              "        white-space: pre-wrap;\n",
              "    }\n",
              "  </style>\n",
              "  "
            ],
            "text/plain": [
              "<IPython.core.display.HTML object>"
            ]
          },
          "metadata": {
            "tags": []
          },
          "output_type": "display_data"
        },
        {
          "name": "stderr",
          "output_type": "stream",
          "text": [
            "Downloading: \"https://github.com/chenyaofo/pytorch-cifar-models/archive/master.zip\" to /root/.cache/torch/hub/master.zip\n"
          ]
        },
        {
          "name": "stdout",
          "output_type": "stream",
          "text": [
            "['cifar100_resnet20', 'cifar100_resnet32', 'cifar100_resnet44', 'cifar100_resnet56', 'cifar100_vgg11_bn', 'cifar100_vgg13_bn', 'cifar100_vgg16_bn', 'cifar100_vgg19_bn', 'cifar10_resnet20', 'cifar10_resnet32', 'cifar10_resnet44', 'cifar10_resnet56', 'cifar10_vgg11_bn', 'cifar10_vgg13_bn', 'cifar10_vgg16_bn', 'cifar10_vgg19_bn']\n"
          ]
        }
      ],
      "source": [
        "import torch\n",
        "print(torch.hub.list(\"chenyaofo/pytorch-cifar-models\", force_reload=True))"
      ]
    },
    {
      "cell_type": "markdown",
      "metadata": {
        "id": "4jofqHNwAgvS"
      },
      "source": [
        "To train/evaluate different models, please set `model.model_name` to available model names listed in the previous block."
      ]
    },
    {
      "cell_type": "markdown",
      "metadata": {
        "id": "YA5-PFL8BPUq"
      },
      "source": [
        "**Train on CIFAR-10:**"
      ]
    },
    {
      "cell_type": "code",
      "execution_count": null,
      "metadata": {
        "id": "BM_9IlZ72D9l"
      },
      "outputs": [],
      "source": [
        "!python -m entry.run --conf conf/cifar10.conf -o output/cifar10/resnet20 -M model.name=cifar10_resnet20"
      ]
    },
    {
      "cell_type": "markdown",
      "metadata": {
        "id": "QwrIVjWQNV82"
      },
      "source": [
        "**Evaluate on CIFAR-10:**"
      ]
    },
    {
      "cell_type": "code",
      "execution_count": null,
      "metadata": {
        "id": "DMd_USWH81Ov"
      },
      "outputs": [],
      "source": [
        "!python -m entry.run --conf conf/cifar10.conf -o output/cifar10/resnet20 -M model.name=cifar10_resnet20 model.pretrained=true only_evaluate=true"
      ]
    },
    {
      "cell_type": "markdown",
      "metadata": {
        "id": "aKYW0yNINoSk"
      },
      "source": [
        "**Train on CIFAR-100:**"
      ]
    },
    {
      "cell_type": "code",
      "execution_count": null,
      "metadata": {
        "id": "m2bVfrEjNoHY"
      },
      "outputs": [],
      "source": [
        "!python -m entry.run --conf conf/cifar100.conf -o output/cifar100/resnet20 -M model.name=cifar100_resnet20"
      ]
    },
    {
      "cell_type": "markdown",
      "metadata": {
        "id": "PgcF8E8NNxgp"
      },
      "source": [
        "**Evaluate on CIFAR-100:**"
      ]
    },
    {
      "cell_type": "code",
      "execution_count": null,
      "metadata": {
        "id": "5k-sCfhqNxDc"
      },
      "outputs": [],
      "source": [
        "!python -m entry.run --conf conf/cifar100.conf -o output/cifar100/resnet20 -M model.name=cifar100_resnet20 model.pretrained=true only_evaluate=true"
      ]
    }
  ],
  "metadata": {
    "accelerator": "GPU",
    "colab": {
      "authorship_tag": "ABX9TyPIpbiKdUC+5q3/Vlm8dk4L",
      "collapsed_sections": [],
      "name": "start_on_colab.ipynb",
      "provenance": []
    },
    "kernelspec": {
      "display_name": "Python 3",
      "name": "python3"
    },
    "language_info": {
      "name": "python"
    }
  },
  "nbformat": 4,
  "nbformat_minor": 0
}
